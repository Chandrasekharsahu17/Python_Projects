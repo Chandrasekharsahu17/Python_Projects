{
 "cells": [
  {
   "cell_type": "code",
   "execution_count": null,
   "id": "a4ca49b3",
   "metadata": {},
   "outputs": [
    {
     "name": "stdout",
     "output_type": "stream",
     "text": [
      "-------\n",
      "---o---\n",
      "-------\n",
      "press y to roll again and n to exit:y\n",
      "\n",
      "\n",
      "-o---o-\n",
      "---o---\n",
      "-o---o-\n"
     ]
    }
   ],
   "source": [
    "import random\n",
    " \n",
    " \n",
    "x = \"y\"\n",
    "  \n",
    "while x == \"y\":\n",
    "     \n",
    "    no = random.randint(1,6)\n",
    "    if no==1:\n",
    "        print(\"-------\")\n",
    "        print(\"---o---\")\n",
    "        print(\"-------\")\n",
    "    if no==2:\n",
    "        print(\"-o-----\")\n",
    "        print(\"-------\")\n",
    "        print(\"-----o-\")\n",
    "    if no==3:\n",
    "        print(\"-o-----\")\n",
    "        print(\"---o---\")\n",
    "        print(\"-----o-\")\n",
    "    if no==4:\n",
    "        print(\"-o---o-\")\n",
    "        print(\"-------\")\n",
    "        print(\"-o---o-\")\n",
    "    if no==5:\n",
    "        print(\"-o---o-\")\n",
    "        print(\"---o---\")\n",
    "        print(\"-o---o-\")\n",
    "    if no==6:\n",
    "        print(\"-o---o-\")\n",
    "        print(\"-o---o-\")\n",
    "        print(\"-o---o-\")\n",
    "    \n",
    "    x=input(\"press y to roll again and n to exit:\")\n",
    "    print(\"\\n\")"
   ]
  }
 ],
 "metadata": {
  "kernelspec": {
   "display_name": "Python 3 (ipykernel)",
   "language": "python",
   "name": "python3"
  },
  "language_info": {
   "codemirror_mode": {
    "name": "ipython",
    "version": 3
   },
   "file_extension": ".py",
   "mimetype": "text/x-python",
   "name": "python",
   "nbconvert_exporter": "python",
   "pygments_lexer": "ipython3",
   "version": "3.11.4"
  }
 },
 "nbformat": 4,
 "nbformat_minor": 5
}
